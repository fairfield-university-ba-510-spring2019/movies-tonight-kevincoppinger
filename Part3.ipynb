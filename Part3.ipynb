{
 "cells": [
  {
   "cell_type": "markdown",
   "metadata": {},
   "source": [
    "# Movies Tonight Part 3: SQL DML"
   ]
  },
  {
   "cell_type": "code",
   "execution_count": 2,
   "metadata": {},
   "outputs": [
    {
     "name": "stdout",
     "output_type": "stream",
     "text": [
      "The sql extension is already loaded. To reload it, use:\n",
      "  %reload_ext sql\n"
     ]
    },
    {
     "data": {
      "text/plain": [
       "'Connected: @Movies.db'"
      ]
     },
     "execution_count": 2,
     "metadata": {},
     "output_type": "execute_result"
    }
   ],
   "source": [
    "%load_ext sql\n",
    "%sql sqlite:///Movies.db"
   ]
  },
  {
   "cell_type": "markdown",
   "metadata": {},
   "source": [
    "1. **Load the `DATASET.csv` file into the `Movies.db` database.**  \n",
    "    - Import the CSV file to create a new table called `DATASET`. Follow the example [here](http://www.sqlitetutorial.net/sqlite-import-csv/).\n",
    "    - Use a [`PRAGMA table-info` pseudo-query](https://www.sqlite.org/pragma.html#pragma_table_info) to inspect the design of the new table. [How are we going to handle dates](https://www.sqlite.org/datatype3.html)?"
   ]
  },
  {
   "cell_type": "code",
   "execution_count": null,
   "metadata": {},
   "outputs": [],
   "source": []
  },
  {
   "cell_type": "markdown",
   "metadata": {},
   "source": [
    "2. **Populate the tables with data.**  \n",
    "\n",
    "    - Use `INSERT ... SELECT ...` queries to extract data from `DATASET` for each table of your other tables. \n",
    "    - Start with the strong entities before moving on to the weak ones. Be sure to always select distinct     values. \n",
    "    - Foreign Keys get special treatment. You will have to use JOINs to pick up the PKs from the other side of the relationships. (As in Part 1, use the fact that movie names, theater names, and people names are always unique in our source data. That way you can use then for the JOIN columns. \n",
    "    - If you have to start over, then rerun your DDL queries from Part 2. "
   ]
  },
  {
   "cell_type": "code",
   "execution_count": 3,
   "metadata": {},
   "outputs": [
    {
     "name": "stdout",
     "output_type": "stream",
     "text": [
      " * sqlite:///Movies.db\n",
      "23 rows affected.\n"
     ]
    },
    {
     "data": {
      "text/plain": [
       "[]"
      ]
     },
     "execution_count": 3,
     "metadata": {},
     "output_type": "execute_result"
    }
   ],
   "source": [
    "%%sql\n",
    "INSERT INTO MOVIES (MTitle, Rating)\n",
    "    SELECT DISTINCT MTitle, Rating\n",
    "    FROM DATASET ;"
   ]
  },
  {
   "cell_type": "code",
   "execution_count": 4,
   "metadata": {},
   "outputs": [
    {
     "name": "stdout",
     "output_type": "stream",
     "text": [
      " * sqlite:///Movies.db\n",
      "Done.\n"
     ]
    },
    {
     "data": {
      "text/html": [
       "<table>\n",
       "    <tr>\n",
       "        <th>MID</th>\n",
       "        <th>MTitle</th>\n",
       "        <th>Rating</th>\n",
       "    </tr>\n",
       "    <tr>\n",
       "        <td>1</td>\n",
       "        <td>Associate, The</td>\n",
       "        <td>PG-13</td>\n",
       "    </tr>\n",
       "    <tr>\n",
       "        <td>2</td>\n",
       "        <td>Ghost &amp; The Darkness, The</td>\n",
       "        <td>R</td>\n",
       "    </tr>\n",
       "    <tr>\n",
       "        <td>3</td>\n",
       "        <td>Independence Day</td>\n",
       "        <td>PG-13</td>\n",
       "    </tr>\n",
       "    <tr>\n",
       "        <td>4</td>\n",
       "        <td>D3: The Mighty Ducks</td>\n",
       "        <td>PG</td>\n",
       "    </tr>\n",
       "    <tr>\n",
       "        <td>5</td>\n",
       "        <td>Dear God</td>\n",
       "        <td></td>\n",
       "    </tr>\n",
       "    <tr>\n",
       "        <td>6</td>\n",
       "        <td>First Wives Club, The</td>\n",
       "        <td>PG-13</td>\n",
       "    </tr>\n",
       "    <tr>\n",
       "        <td>7</td>\n",
       "        <td>High School High</td>\n",
       "        <td>PG-13</td>\n",
       "    </tr>\n",
       "    <tr>\n",
       "        <td>8</td>\n",
       "        <td>Larger Than Life</td>\n",
       "        <td>PG</td>\n",
       "    </tr>\n",
       "    <tr>\n",
       "        <td>9</td>\n",
       "        <td>Mirror Has Two Faces, The</td>\n",
       "        <td>PG-13</td>\n",
       "    </tr>\n",
       "    <tr>\n",
       "        <td>10</td>\n",
       "        <td>Ransom</td>\n",
       "        <td>R</td>\n",
       "    </tr>\n",
       "    <tr>\n",
       "        <td>11</td>\n",
       "        <td>Sleepers</td>\n",
       "        <td></td>\n",
       "    </tr>\n",
       "    <tr>\n",
       "        <td>12</td>\n",
       "        <td>Space Jam</td>\n",
       "        <td>PG</td>\n",
       "    </tr>\n",
       "    <tr>\n",
       "        <td>13</td>\n",
       "        <td>Stephen King&#x27;s Thinner</td>\n",
       "        <td></td>\n",
       "    </tr>\n",
       "    <tr>\n",
       "        <td>14</td>\n",
       "        <td>Michael Collins</td>\n",
       "        <td>R</td>\n",
       "    </tr>\n",
       "    <tr>\n",
       "        <td>15</td>\n",
       "        <td>Romeo &amp; Juliet</td>\n",
       "        <td>R</td>\n",
       "    </tr>\n",
       "    <tr>\n",
       "        <td>16</td>\n",
       "        <td>Big Night</td>\n",
       "        <td>R</td>\n",
       "    </tr>\n",
       "    <tr>\n",
       "        <td>17</td>\n",
       "        <td>Fly Away Home</td>\n",
       "        <td>PG</td>\n",
       "    </tr>\n",
       "    <tr>\n",
       "        <td>18</td>\n",
       "        <td>Nutty Professor, The</td>\n",
       "        <td>PG-13</td>\n",
       "    </tr>\n",
       "    <tr>\n",
       "        <td>19</td>\n",
       "        <td>Phenomenon</td>\n",
       "        <td>PG</td>\n",
       "    </tr>\n",
       "    <tr>\n",
       "        <td>20</td>\n",
       "        <td>Set It Off</td>\n",
       "        <td>R</td>\n",
       "    </tr>\n",
       "    <tr>\n",
       "        <td>21</td>\n",
       "        <td>Surviving Picasso</td>\n",
       "        <td>R</td>\n",
       "    </tr>\n",
       "    <tr>\n",
       "        <td>22</td>\n",
       "        <td>Very Brady Sequel, A</td>\n",
       "        <td>PG-13</td>\n",
       "    </tr>\n",
       "    <tr>\n",
       "        <td>23</td>\n",
       "        <td>That Thing You Do</td>\n",
       "        <td>PG</td>\n",
       "    </tr>\n",
       "</table>"
      ],
      "text/plain": [
       "[(1, 'Associate, The', 'PG-13'),\n",
       " (2, 'Ghost & The Darkness, The', 'R'),\n",
       " (3, 'Independence Day', 'PG-13'),\n",
       " (4, 'D3: The Mighty Ducks', 'PG'),\n",
       " (5, 'Dear God', ''),\n",
       " (6, 'First Wives Club, The', 'PG-13'),\n",
       " (7, 'High School High', 'PG-13'),\n",
       " (8, 'Larger Than Life', 'PG'),\n",
       " (9, 'Mirror Has Two Faces, The', 'PG-13'),\n",
       " (10, 'Ransom', 'R'),\n",
       " (11, 'Sleepers', ''),\n",
       " (12, 'Space Jam', 'PG'),\n",
       " (13, \"Stephen King's Thinner\", ''),\n",
       " (14, 'Michael Collins', 'R'),\n",
       " (15, 'Romeo & Juliet', 'R'),\n",
       " (16, 'Big Night', 'R'),\n",
       " (17, 'Fly Away Home', 'PG'),\n",
       " (18, 'Nutty Professor, The', 'PG-13'),\n",
       " (19, 'Phenomenon', 'PG'),\n",
       " (20, 'Set It Off', 'R'),\n",
       " (21, 'Surviving Picasso', 'R'),\n",
       " (22, 'Very Brady Sequel, A', 'PG-13'),\n",
       " (23, 'That Thing You Do', 'PG')]"
      ]
     },
     "execution_count": 4,
     "metadata": {},
     "output_type": "execute_result"
    }
   ],
   "source": [
    "%%sql\n",
    "SELECT *\n",
    "FROM MOVIES"
   ]
  },
  {
   "cell_type": "code",
   "execution_count": 5,
   "metadata": {},
   "outputs": [
    {
     "name": "stdout",
     "output_type": "stream",
     "text": [
      " * sqlite:///Movies.db\n",
      "9 rows affected.\n"
     ]
    },
    {
     "data": {
      "text/plain": [
       "[]"
      ]
     },
     "execution_count": 5,
     "metadata": {},
     "output_type": "execute_result"
    }
   ],
   "source": [
    "%%sql \n",
    "INSERT INTO THEATER (TName, Phone, Location)\n",
    "    SELECT DISTINCT TName, Phone, Location\n",
    "    FROM DATASET ;"
   ]
  },
  {
   "cell_type": "code",
   "execution_count": 6,
   "metadata": {},
   "outputs": [
    {
     "name": "stdout",
     "output_type": "stream",
     "text": [
      " * sqlite:///Movies.db\n",
      "Done.\n"
     ]
    },
    {
     "data": {
      "text/html": [
       "<table>\n",
       "    <tr>\n",
       "        <th>TID</th>\n",
       "        <th>TName</th>\n",
       "        <th>Phone</th>\n",
       "        <th>Location</th>\n",
       "    </tr>\n",
       "    <tr>\n",
       "        <td>1</td>\n",
       "        <td>Akarakian Theatres Moreno 4 Cinemas</td>\n",
       "        <td>(909) 485-2899</td>\n",
       "        <td>The Intersection Of Alessandro + Perris Blvds, Moreno Valley</td>\n",
       "    </tr>\n",
       "    <tr>\n",
       "        <td>2</td>\n",
       "        <td>Cinema Star The Ultraplex 14</td>\n",
       "        <td>(909) 342-2256</td>\n",
       "        <td>Mission Grove, Riverside</td>\n",
       "    </tr>\n",
       "    <tr>\n",
       "        <td>3</td>\n",
       "        <td>General Cinema Rancho 6</td>\n",
       "        <td>(714) 370-2085</td>\n",
       "        <td> I-215 At Mt. Vernon S. At I-10, San Bernardino</td>\n",
       "    </tr>\n",
       "    <tr>\n",
       "        <td>4</td>\n",
       "        <td>Pacific Inland Center</td>\n",
       "        <td>(714) 381-1611</td>\n",
       "        <td> Inland Center Mall, San Bernardino</td>\n",
       "    </tr>\n",
       "    <tr>\n",
       "        <td>5</td>\n",
       "        <td>SOCAL Canyon Crest Cinema</td>\n",
       "        <td>(909) 682-6900</td>\n",
       "        <td>Central Avenue South Of 60 Freeway Near Ucr, Riverside</td>\n",
       "    </tr>\n",
       "    <tr>\n",
       "        <td>6</td>\n",
       "        <td>SOCAL Canyon Springs Cinema</td>\n",
       "        <td>(909) 782-0800</td>\n",
       "        <td>East Of I-215 On 60 Freeway At Day Street Canyon, Moreno Valley</td>\n",
       "    </tr>\n",
       "    <tr>\n",
       "        <td>7</td>\n",
       "        <td>SOCAL Marketplace Cinema</td>\n",
       "        <td>(909) 682-4040</td>\n",
       "        <td>University/mission Inn Exits East Of 91 Freeway On, Riverside</td>\n",
       "    </tr>\n",
       "    <tr>\n",
       "        <td>8</td>\n",
       "        <td>United Artists Riverside (Galleria) Tyler Mall</td>\n",
       "        <td>(714) 689-802</td>\n",
       "        <td>Riverside Fwy Tyler, Riverside</td>\n",
       "    </tr>\n",
       "    <tr>\n",
       "        <td>9</td>\n",
       "        <td>United Artists Riverside Park Sierra</td>\n",
       "        <td>(909) 359-6995</td>\n",
       "        <td>3600 Park Sierra Dr., Riverside</td>\n",
       "    </tr>\n",
       "</table>"
      ],
      "text/plain": [
       "[(1, 'Akarakian Theatres Moreno 4 Cinemas', '(909) 485-2899', 'The Intersection Of Alessandro + Perris Blvds, Moreno Valley'),\n",
       " (2, 'Cinema Star The Ultraplex 14', '(909) 342-2256', 'Mission Grove, Riverside'),\n",
       " (3, 'General Cinema Rancho 6', '(714) 370-2085', ' I-215 At Mt. Vernon S. At I-10, San Bernardino'),\n",
       " (4, 'Pacific Inland Center', '(714) 381-1611', ' Inland Center Mall, San Bernardino'),\n",
       " (5, 'SOCAL Canyon Crest Cinema', '(909) 682-6900', 'Central Avenue South Of 60 Freeway Near Ucr, Riverside'),\n",
       " (6, 'SOCAL Canyon Springs Cinema', '(909) 782-0800', 'East Of I-215 On 60 Freeway At Day Street Canyon, Moreno Valley'),\n",
       " (7, 'SOCAL Marketplace Cinema', '(909) 682-4040', 'University/mission Inn Exits East Of 91 Freeway On, Riverside'),\n",
       " (8, 'United Artists Riverside (Galleria) Tyler Mall', '(714) 689-802', 'Riverside Fwy Tyler, Riverside'),\n",
       " (9, 'United Artists Riverside Park Sierra', '(909) 359-6995', '3600 Park Sierra Dr., Riverside')]"
      ]
     },
     "execution_count": 6,
     "metadata": {},
     "output_type": "execute_result"
    }
   ],
   "source": [
    "%%sql\n",
    "SELECT *\n",
    "FROM THEATER"
   ]
  },
  {
   "cell_type": "code",
   "execution_count": 7,
   "metadata": {},
   "outputs": [
    {
     "name": "stdout",
     "output_type": "stream",
     "text": [
      " * sqlite:///Movies.db\n",
      "153 rows affected.\n"
     ]
    },
    {
     "data": {
      "text/plain": [
       "[]"
      ]
     },
     "execution_count": 7,
     "metadata": {},
     "output_type": "execute_result"
    }
   ],
   "source": [
    "%%sql\n",
    "INSERT INTO ARTIST (AName)\n",
    "SELECT DISTINCT CName \n",
    "    FROM DATASET ;"
   ]
  },
  {
   "cell_type": "code",
   "execution_count": 9,
   "metadata": {},
   "outputs": [
    {
     "name": "stdout",
     "output_type": "stream",
     "text": [
      " * sqlite:///Movies.db\n",
      "162 rows affected.\n"
     ]
    },
    {
     "data": {
      "text/plain": [
       "[]"
      ]
     },
     "execution_count": 9,
     "metadata": {},
     "output_type": "execute_result"
    }
   ],
   "source": [
    "%%sql \n",
    "INSERT INTO CREDIT (MID, AID, CCode)\n",
    "SELECT DISTINCT MID, CCode, AID \n",
    "    FROM DATASET\n",
    "    JOIN Movies ON (Movies.MTitle=DATASET.MTitle)\n",
    "    JOIN Artist ON (Artist.AName=DATASET.CName) ;"
   ]
  },
  {
   "cell_type": "code",
   "execution_count": 12,
   "metadata": {},
   "outputs": [
    {
     "name": "stdout",
     "output_type": "stream",
     "text": [
      " * sqlite:///Movies.db\n",
      "131 rows affected.\n"
     ]
    },
    {
     "data": {
      "text/plain": [
       "[]"
      ]
     },
     "execution_count": 12,
     "metadata": {},
     "output_type": "execute_result"
    }
   ],
   "source": [
    "%%sql\n",
    "INSERT INTO SHOW (MID, TID, STime)\n",
    "SELECT DISTINCT MID, TID, ShowTime\n",
    "FROM DATASET\n",
    "    JOIN Movies ON (DATASET.MTitle=Movies.MTitle)\n",
    "    JOIN Theater ON (DATASET.TName=Theater.TName) ;"
   ]
  },
  {
   "cell_type": "markdown",
   "metadata": {},
   "source": [
    "3. **Check your work.**  \n",
    "There are 9 theaters, 23 movies, 152 artists, 131 shows, and 161 credits."
   ]
  },
  {
   "cell_type": "code",
   "execution_count": 15,
   "metadata": {},
   "outputs": [
    {
     "name": "stdout",
     "output_type": "stream",
     "text": [
      " * sqlite:///Movies.db\n",
      "Done.\n"
     ]
    },
    {
     "data": {
      "text/html": [
       "<table>\n",
       "    <tr>\n",
       "        <th>COUNT (*)</th>\n",
       "    </tr>\n",
       "    <tr>\n",
       "        <td>23</td>\n",
       "    </tr>\n",
       "</table>"
      ],
      "text/plain": [
       "[(23,)]"
      ]
     },
     "execution_count": 15,
     "metadata": {},
     "output_type": "execute_result"
    }
   ],
   "source": [
    "%%sql\n",
    "SELECT COUNT (*)\n",
    "    FROM MOVIES;"
   ]
  },
  {
   "cell_type": "code",
   "execution_count": 16,
   "metadata": {},
   "outputs": [
    {
     "name": "stdout",
     "output_type": "stream",
     "text": [
      " * sqlite:///Movies.db\n",
      "Done.\n"
     ]
    },
    {
     "data": {
      "text/html": [
       "<table>\n",
       "    <tr>\n",
       "        <th>COUNT(*)</th>\n",
       "    </tr>\n",
       "    <tr>\n",
       "        <td>9</td>\n",
       "    </tr>\n",
       "</table>"
      ],
      "text/plain": [
       "[(9,)]"
      ]
     },
     "execution_count": 16,
     "metadata": {},
     "output_type": "execute_result"
    }
   ],
   "source": [
    "%%sql    \n",
    "SELECT COUNT(*)\n",
    "    FROM Theater;"
   ]
  },
  {
   "cell_type": "code",
   "execution_count": 17,
   "metadata": {},
   "outputs": [
    {
     "name": "stdout",
     "output_type": "stream",
     "text": [
      " * sqlite:///Movies.db\n",
      "Done.\n"
     ]
    },
    {
     "data": {
      "text/html": [
       "<table>\n",
       "    <tr>\n",
       "        <th>COUNT(*)</th>\n",
       "    </tr>\n",
       "    <tr>\n",
       "        <td>153</td>\n",
       "    </tr>\n",
       "</table>"
      ],
      "text/plain": [
       "[(153,)]"
      ]
     },
     "execution_count": 17,
     "metadata": {},
     "output_type": "execute_result"
    }
   ],
   "source": [
    "%%sql    \n",
    "SELECT COUNT(*)\n",
    "    FROM Artist;\n",
    " "
   ]
  },
  {
   "cell_type": "code",
   "execution_count": 18,
   "metadata": {},
   "outputs": [
    {
     "name": "stdout",
     "output_type": "stream",
     "text": [
      " * sqlite:///Movies.db\n",
      "Done.\n"
     ]
    },
    {
     "data": {
      "text/html": [
       "<table>\n",
       "    <tr>\n",
       "        <th>COUNT(*)</th>\n",
       "    </tr>\n",
       "    <tr>\n",
       "        <td>131</td>\n",
       "    </tr>\n",
       "</table>"
      ],
      "text/plain": [
       "[(131,)]"
      ]
     },
     "execution_count": 18,
     "metadata": {},
     "output_type": "execute_result"
    }
   ],
   "source": [
    "%%sql  \n",
    "SELECT COUNT(*)\n",
    "    FROM Show;\n",
    " "
   ]
  },
  {
   "cell_type": "code",
   "execution_count": 19,
   "metadata": {},
   "outputs": [
    {
     "name": "stdout",
     "output_type": "stream",
     "text": [
      " * sqlite:///Movies.db\n",
      "Done.\n"
     ]
    },
    {
     "data": {
      "text/html": [
       "<table>\n",
       "    <tr>\n",
       "        <th>COUNT(*)</th>\n",
       "    </tr>\n",
       "    <tr>\n",
       "        <td>162</td>\n",
       "    </tr>\n",
       "</table>"
      ],
      "text/plain": [
       "[(162,)]"
      ]
     },
     "execution_count": 19,
     "metadata": {},
     "output_type": "execute_result"
    }
   ],
   "source": [
    " %%sql  \n",
    "SELECT COUNT(*)\n",
    "    FROM Credit;"
   ]
  },
  {
   "cell_type": "markdown",
   "metadata": {},
   "source": [
    "4. **Now check the source data.**  \n",
    "There are actually 13 duplicate rows in the original source data! Can you spot them? Write a SQL query that counts how many times each (MTitle, TName, Showtime, CCode, and CName) appears. Which ones appear more than once?"
   ]
  },
  {
   "cell_type": "code",
   "execution_count": 25,
   "metadata": {},
   "outputs": [
    {
     "name": "stdout",
     "output_type": "stream",
     "text": [
      " * sqlite:///Movies.db\n",
      "(sqlite3.OperationalError) near \"(\": syntax error [SQL: 'SELECT NONDISTINCT COUNT(*)\\n    FROM DATASET;'] (Background on this error at: http://sqlalche.me/e/e3q8)\n"
     ]
    }
   ],
   "source": [
    "%%sql \n",
    "SELECT NONDISTINCT COUNT(*)\n",
    "    FROM DATASET;"
   ]
  },
  {
   "cell_type": "code",
   "execution_count": 26,
   "metadata": {},
   "outputs": [
    {
     "name": "stdout",
     "output_type": "stream",
     "text": [
      " * sqlite:///Movies.db\n",
      "Done.\n"
     ]
    },
    {
     "data": {
      "text/html": [
       "<table>\n",
       "    <tr>\n",
       "        <th>COUNT(*)</th>\n",
       "    </tr>\n",
       "    <tr>\n",
       "        <td>913</td>\n",
       "    </tr>\n",
       "</table>"
      ],
      "text/plain": [
       "[(913,)]"
      ]
     },
     "execution_count": 26,
     "metadata": {},
     "output_type": "execute_result"
    }
   ],
   "source": [
    "%%sql \n",
    "SELECT COUNT(*)\n",
    "    FROM DATASET ;"
   ]
  },
  {
   "cell_type": "markdown",
   "metadata": {},
   "source": [
    "5. **Drop the `DATASET` table.**  \n",
    "We don't need it anymore. "
   ]
  },
  {
   "cell_type": "code",
   "execution_count": null,
   "metadata": {},
   "outputs": [],
   "source": []
  },
  {
   "cell_type": "markdown",
   "metadata": {},
   "source": [
    "6. **Save, commit, and push your work to GitHub.**  \n",
    "Use the commit summary comment \"Completed Part 3\"."
   ]
  },
  {
   "cell_type": "code",
   "execution_count": null,
   "metadata": {},
   "outputs": [],
   "source": []
  }
 ],
 "metadata": {
  "kernelspec": {
   "display_name": "Python 3",
   "language": "python",
   "name": "python3"
  },
  "language_info": {
   "codemirror_mode": {
    "name": "ipython",
    "version": 3
   },
   "file_extension": ".py",
   "mimetype": "text/x-python",
   "name": "python",
   "nbconvert_exporter": "python",
   "pygments_lexer": "ipython3",
   "version": "3.6.5"
  }
 },
 "nbformat": 4,
 "nbformat_minor": 2
}
