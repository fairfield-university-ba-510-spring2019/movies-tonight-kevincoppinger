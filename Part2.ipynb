{
 "cells": [
  {
   "cell_type": "markdown",
   "metadata": {},
   "source": [
    "# Movies Tonight Part 2: SQL DDL"
   ]
  },
  {
   "cell_type": "code",
   "execution_count": 11,
   "metadata": {},
   "outputs": [
    {
     "name": "stdout",
     "output_type": "stream",
     "text": [
      "The sql extension is already loaded. To reload it, use:\n",
      "  %reload_ext sql\n"
     ]
    }
   ],
   "source": [
    "%load_ext sql"
   ]
  },
  {
   "cell_type": "markdown",
   "metadata": {},
   "source": [
    "1. **Create / Reset a SQLite database.** \n",
    "    - Name the database `Movies.db`.\n",
    "    - Add `DROP TABLE IF EXISTS` queries make sure you have a blank database. \n",
    "    - Use SQL comments to say what each line does"
   ]
  },
  {
   "cell_type": "code",
   "execution_count": 12,
   "metadata": {},
   "outputs": [
    {
     "data": {
      "text/plain": [
       "'Connected: @Movies.db'"
      ]
     },
     "execution_count": 12,
     "metadata": {},
     "output_type": "execute_result"
    }
   ],
   "source": [
    "%%sql\n",
    "sqlite:///Movies.db"
   ]
  },
  {
   "cell_type": "code",
   "execution_count": 14,
   "metadata": {},
   "outputs": [
    {
     "name": "stdout",
     "output_type": "stream",
     "text": [
      " * sqlite:///Movies.db\n",
      "Done.\n",
      "Done.\n",
      "Done.\n",
      "Done.\n",
      "Done.\n"
     ]
    },
    {
     "data": {
      "text/plain": [
       "[]"
      ]
     },
     "execution_count": 14,
     "metadata": {},
     "output_type": "execute_result"
    }
   ],
   "source": [
    "%%sql\n",
    "DROP table if exists Theater;\n",
    "DROP table if exists Artist;\n",
    "DROP table if exists Show;\n",
    "DROP table if exists Movie;\n",
    "DROP table if exists Credit;"
   ]
  },
  {
   "cell_type": "markdown",
   "metadata": {},
   "source": [
    "2. **Use SQL Create Table commands to implement the table designs you created in Part 1.** \n",
    "    - Take care with your data types! (You do not need to populate them yet. That’s Part 3.) \n",
    "    - Use a surrogate key for the primary key of each table. The data type descriptor is `INTEGER PRIMARY KEY`.\n",
    "    - If you make a mistake, recreate the database from scratch using your code from step 1 above. "
   ]
  },
  {
   "cell_type": "code",
   "execution_count": null,
   "metadata": {},
   "outputs": [],
   "source": [
    "%%sql\n",
    "CREATE TABLE 'Theater'(\n",
    "    TID INTEGER PRIMARY KEY,\n",
    "    TName TEXT NOT NULL, \n",
    "    Phone TEXT,\n",
    "    Location TEXT NOT NULL);"
   ]
  },
  {
   "cell_type": "code",
   "execution_count": null,
   "metadata": {},
   "outputs": [],
   "source": [
    "%%sql\n",
    "CREATE TABLE 'Artist' (\n",
    "    AID INTEGER PRIMARY KEY,\n",
    "    AName TEXT NOT null);"
   ]
  },
  {
   "cell_type": "code",
   "execution_count": null,
   "metadata": {},
   "outputs": [],
   "source": [
    "%%sql\n",
    "CREATE TABLE 'Show' (\n",
    "    SID INTEGER primary key,\n",
    "    STime TEXT not null, \n",
    "    TID INTEGER not null,\n",
    "    MID INTEGER not null,\n",
    "    Foreign key (TID) references `Theater`(TID), \n",
    "    Foreign key (MID) references `Movies` (MID)\n",
    ");"
   ]
  },
  {
   "cell_type": "code",
   "execution_count": null,
   "metadata": {},
   "outputs": [],
   "source": [
    "%%sql\n",
    "CREATE TABLE 'Movies' (\n",
    "    MID INTEGER PRIMARY KEY,\n",
    "    MTitle TEXT,\n",
    "    Rating TEXT);"
   ]
  },
  {
   "cell_type": "code",
   "execution_count": 17,
   "metadata": {},
   "outputs": [
    {
     "name": "stdout",
     "output_type": "stream",
     "text": [
      " * sqlite:///Movies.db\n",
      "Done.\n"
     ]
    },
    {
     "data": {
      "text/plain": [
       "[]"
      ]
     },
     "execution_count": 17,
     "metadata": {},
     "output_type": "execute_result"
    }
   ],
   "source": [
    "%%sql\n",
    "CREATE TABLE 'Credit'(\n",
    "    CID INTEGER PRIMARY KEY,\n",
    "    MID INTEGER NOT NULL,\n",
    "    AID INTEGER NOT NULL,\n",
    "    CCODE INTEGER NOT NULL,\n",
    "    foreign key (MID) REFERENCES 'Movies' (MID),\n",
    "    foreign key (AID) REFERENCES 'Artist' (AID))"
   ]
  },
  {
   "cell_type": "markdown",
   "metadata": {},
   "source": [
    "3. **Use SQL ALTER TABLE statements to add the foreign key constraints from your ERD.**  \n",
    "Take care that each constraint has to have a unique name."
   ]
  },
  {
   "cell_type": "markdown",
   "metadata": {},
   "source": [
    "Created Tables with Foreign Keys already in place."
   ]
  },
  {
   "cell_type": "markdown",
   "metadata": {},
   "source": [
    "4. **Save, add, commit, and push your work to GitHub.**  \n",
    "Use the commit summary comment \"Completed Part 2\"."
   ]
  },
  {
   "cell_type": "markdown",
   "metadata": {},
   "source": [
    "Completed Part 2"
   ]
  },
  {
   "cell_type": "code",
   "execution_count": null,
   "metadata": {},
   "outputs": [],
   "source": []
  }
 ],
 "metadata": {
  "kernelspec": {
   "display_name": "Python 3",
   "language": "python",
   "name": "python3"
  },
  "language_info": {
   "codemirror_mode": {
    "name": "ipython",
    "version": 3
   },
   "file_extension": ".py",
   "mimetype": "text/x-python",
   "name": "python",
   "nbconvert_exporter": "python",
   "pygments_lexer": "ipython3",
   "version": "3.6.5"
  }
 },
 "nbformat": 4,
 "nbformat_minor": 2
}
